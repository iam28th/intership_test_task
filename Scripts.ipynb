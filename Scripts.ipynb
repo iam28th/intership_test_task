{
 "cells": [
  {
   "cell_type": "markdown",
   "metadata": {},
   "source": [
    "# Imports"
   ]
  },
  {
   "cell_type": "code",
   "execution_count": 180,
   "metadata": {},
   "outputs": [],
   "source": [
    "from uuid import uuid4\n",
    "import os\n",
    "import shlex\n",
    "import subprocess\n",
    "from collections import defaultdict\n",
    "\n",
    "# used only for plotting\n",
    "import seaborn as sns\n",
    "import pandas as pd"
   ]
  },
  {
   "cell_type": "markdown",
   "metadata": {},
   "source": [
    "# Implementation\n",
    "Uses standard Python libraries, `grep` and `sort`."
   ]
  },
  {
   "cell_type": "code",
   "execution_count": 252,
   "metadata": {},
   "outputs": [],
   "source": [
    "def ploidity_from_vcf(path):\n",
    "    \"\"\"\n",
    "    Calculate ploidity from .vcf file\n",
    "    \"\"\"\n",
    "\n",
    "    # chrom namer whose count of copies differs from ploidity\n",
    "    bad_chroms = {'Y', 'X', 'M', 'chrX', 'chrY', 'chrM'}\n",
    "\n",
    "    with open(path, 'r') as f:\n",
    "        for line in f:\n",
    "            # skip comments and heading\n",
    "            if line.startswith('#'):\n",
    "                continue\n",
    "\n",
    "            # skip bad chroms\n",
    "            fields = line.split('\\t')\n",
    "            chrom = fields[0]\n",
    "            if chrom in bad_chroms:\n",
    "                continue\n",
    "\n",
    "            # .vcf contains 8 fixed columns + FORMAT + individual columns\n",
    "            # i.e. first of individual columns is the 10th\n",
    "\n",
    "            # find genotype field index\n",
    "            index = fields[8].split(':').index('GT')\n",
    "            ploidity = len(fields[9].split(':')[index].split('/'))\n",
    "            return ploidity\n",
    "\n",
    "\n",
    "def het_dist_histogram(path, name=None, return_list=True):\n",
    "    \"\"\"\n",
    "    Calculate the histogram for distribution of lengths of intervals between\n",
    "    heterozygotes. The i-th element of histogram will be equal to the number of\n",
    "    neighbouring heterozygotes that have distance between them equal to i.\n",
    "\n",
    "    path - path to .vcf file\n",
    "\n",
    "    name - if None, calculates statistics across all individuals (default);\n",
    "        else calculates only for specified individual.\n",
    "\n",
    "    return_list - if True, return list where index i corresponds to distance\n",
    "        and i-th value corresponds to count; \n",
    "        else returns dict {distance: count}\n",
    "    \"\"\"\n",
    "\n",
    "    # if name is specified, we need to identify the column index\n",
    "    if name is not None:\n",
    "        with open(path, 'r') as f:\n",
    "            for line in f:\n",
    "                if line.startswith('#CHROM'):\n",
    "                    header = line.split('\\t')\n",
    "                    if name in header:\n",
    "                        column_index = header.index(name)\n",
    "                        break\n",
    "                    else:\n",
    "                        print('Individual ' + name + ' not found.')\n",
    "                        print('Pick one of the below:')\n",
    "                        print(*header[9:], sep='\\t')\n",
    "                        return\n",
    "\n",
    "    # lets sort .vcf file by chromosome first and by position second\n",
    "    # and save the results in temp file\n",
    "    tmp_file = str(uuid4())\n",
    "    try:\n",
    "        command = f\"grep -v '#' {path} | sort -k1,1 -k2n > {tmp_file}\"\n",
    "        proc = subprocess.run(command, shell=True, capture_output=True)\n",
    "        proc.check_returncode()\n",
    "\n",
    "    except Exception as e:\n",
    "        print(proc.stderr.decode('utf-8'))\n",
    "        os.remove(tmp_file)\n",
    "        raise e\n",
    "\n",
    "    else:\n",
    "\n",
    "        def parse_line(line):\n",
    "            \"\"\"\n",
    "            Parses a line from .vcf file.\n",
    "\n",
    "            Returns chrom, position and flag - list of bool (1 value for each individual)\n",
    "\n",
    "            flag[i] is True if i-th individual is heterozygous at this position.\n",
    "            \"\"\"\n",
    "\n",
    "            fields = line.split('\\t')\n",
    "            chrom = fields[0]\n",
    "            position = int(fields[1])\n",
    "            flag = []\n",
    "\n",
    "            # locate GT field index\n",
    "            GT_index = fields[8].split(':').index('GT')\n",
    "\n",
    "            def het_zyg(genotype_data):\n",
    "                \"\"\"\n",
    "                Parse genotype data from .vcf file\n",
    "                Return True if heterozygousity is observed, else False\n",
    "                \"\"\"\n",
    "                a1, a2 = genotype_data.split(':')[GT_index].split('/')\n",
    "                return a1 != a2\n",
    "\n",
    "            if name is None:\n",
    "                for i in range(9, len(fields)):\n",
    "                    flag.append(het_zyg(fields[i]))\n",
    "\n",
    "            else:\n",
    "                flag.append(het_zyg(fields[column_index]))\n",
    "\n",
    "            return chrom, position, flag\n",
    "\n",
    "        counts = defaultdict(int)\n",
    "        with open(tmp_file, 'r') as f:\n",
    "            prev_stat = parse_line(next(f))\n",
    "            for line in f:\n",
    "                next_stat = parse_line(line)\n",
    "\n",
    "                # different chromosomes\n",
    "                if prev_stat[0] != next_stat[0]:\n",
    "                    prev_stat = next_stat\n",
    "                    continue\n",
    "\n",
    "                for hetzyg1, hetzyg2 in zip(prev_stat[2], next_stat[2]):\n",
    "                    if hetzyg1 and hetzyg2:\n",
    "                        distance = next_stat[1] - prev_stat[1]\n",
    "                        counts[distance] += 1\n",
    "\n",
    "                prev_stat = next_stat\n",
    "\n",
    "        # clean up\n",
    "        os.remove(tmp_file)\n",
    "\n",
    "        if return_list:\n",
    "            # construct list from counts dictionary\n",
    "            results = [0] * (max(counts.keys()) + 1)\n",
    "            for k, v in counts.items():\n",
    "                results[k] = v\n",
    "            return results\n",
    "\n",
    "        else:\n",
    "            return counts"
   ]
  },
  {
   "cell_type": "code",
   "execution_count": 260,
   "metadata": {},
   "outputs": [],
   "source": [
    "def plot_histogram(H, name):\n",
    "    \"\"\"\n",
    "    Plot histogram from the results of het_dist_histogram function ()\n",
    "    \"\"\"\n",
    "    max_count = max(H)\n",
    "    for i, h in enumerate(H):\n",
    "        if i and h < max_count * 0.01:\n",
    "            last_index = i\n",
    "            break\n",
    "\n",
    "    H_plot = H[:last_index]\n",
    "\n",
    "    x = [i for i in range(last_index)]\n",
    "\n",
    "    ax_fontsize = 15\n",
    "    title_fontsize = 18\n",
    "\n",
    "    fig, ax = plt.subplots(figsize=(8, 6))\n",
    "    sns.histplot(x=x, weights=H_plot, bins=10)\n",
    "    ax.set_xlim([0, ax.get_xlim()[1]])\n",
    "    ax.set_xlabel('Distance', fontsize=ax_fontsize)\n",
    "    ax.set_ylabel('Count', fontsize=ax_fontsize)\n",
    "\n",
    "    suptitle = '\\nDistribution of lengths of intervals\\nbetween heterozygotes'\n",
    "\n",
    "    if name is None:\n",
    "        title = '(across all individuals)'\n",
    "    else:\n",
    "        title = f'({name})'\n",
    "\n",
    "    ax.set_title(title, fontsize=title_fontsize)\n",
    "    ax.grid()\n",
    "\n",
    "    fig.suptitle(suptitle, fontsize=title_fontsize+1, x=0.55)\n",
    "    fig.tight_layout()"
   ]
  },
  {
   "cell_type": "markdown",
   "metadata": {},
   "source": [
    "# Example usage\n",
    "Using `.vcf` file from [here](https://stepik.org/lesson/295219/step/12?unit=276890).\n",
    "\n",
    "The filt is `58835` lines including counts and contains genotype data for 4 individuals."
   ]
  },
  {
   "cell_type": "code",
   "execution_count": 251,
   "metadata": {},
   "outputs": [
    {
     "name": "stdout",
     "output_type": "stream",
     "text": [
      "-rw-rw-r-- 1 iam28th iam28th 24367049 июн 10 19:47 data_for_dtrio.vcf\r\n"
     ]
    }
   ],
   "source": [
    "ls - l data_for_dtrio.vcf"
   ]
  },
  {
   "cell_type": "code",
   "execution_count": 254,
   "metadata": {},
   "outputs": [
    {
     "data": {
      "text/plain": [
       "2"
      ]
     },
     "execution_count": 254,
     "metadata": {},
     "output_type": "execute_result"
    }
   ],
   "source": [
    "file = 'data_for_dtrio.vcf'\n",
    "ploidity_from_vcf(file)"
   ]
  },
  {
   "cell_type": "code",
   "execution_count": 255,
   "metadata": {},
   "outputs": [],
   "source": [
    "# calculate stats across all 4 individuals\n",
    "H_all = het_dist_histogram(file, name=None)"
   ]
  },
  {
   "cell_type": "code",
   "execution_count": 257,
   "metadata": {},
   "outputs": [
    {
     "name": "stdout",
     "output_type": "stream",
     "text": [
      "Individual ind1 not found.\n",
      "Pick one of the below:\n",
      "Ind4\tInd3\tInd1\tInd2\n",
      "\n"
     ]
    }
   ],
   "source": [
    "# calculate stats for ind1\n",
    "H_Ind1 = het_dist_histogram(file, name='ind1')"
   ]
  },
  {
   "cell_type": "code",
   "execution_count": 258,
   "metadata": {},
   "outputs": [],
   "source": [
    "# whoops, I mean Ind1\n",
    "H_Ind1 = het_dist_histogram(file, name='Ind1')"
   ]
  },
  {
   "cell_type": "code",
   "execution_count": 261,
   "metadata": {},
   "outputs": [
    {
     "data": {
      "image/png": "[encoded data removed]",
      "text/plain": [
       "<Figure size 576x432 with 1 Axes>"
      ]
     },
     "metadata": {
      "needs_background": "light"
     },
     "output_type": "display_data"
    },
    {
     "data": {
      "image/png": "[encoded data removed]",
      "text/plain": [
       "<Figure size 576x432 with 1 Axes>"
      ]
     },
     "metadata": {
      "needs_background": "light"
     },
     "output_type": "display_data"
    }
   ],
   "source": [
    "# visualize\n",
    "plot_histogram(H_all, name=None)\n",
    "plot_histogram(H_Ind1, name='Ind1')"
   ]
  },
  {
   "cell_type": "markdown",
   "metadata": {},
   "source": [
    "The distance seem to be close to Poisson distribution, which makes sense if we suppose that probability to be heterozygous for all positions in the genome is relatevely close."
   ]
  },
  {
   "cell_type": "code",
   "execution_count": null,
   "metadata": {},
   "outputs": [],
   "source": []
  }
 ],
 "metadata": {
  "kernelspec": {
   "display_name": "Python 3",
   "language": "python",
   "name": "python3"
  },
  "language_info": {
   "codemirror_mode": {
    "name": "ipython",
    "version": 3
   },
   "file_extension": ".py",
   "mimetype": "text/x-python",
   "name": "python",
   "nbconvert_exporter": "python",
   "pygments_lexer": "ipython3",
   "version": "3.8.5"
  },
  "toc": {
   "base_numbering": 1,
   "nav_menu": {},
   "number_sections": false,
   "sideBar": true,
   "skip_h1_title": false,
   "title_cell": "Table of Contents",
   "title_sidebar": "Contents",
   "toc_cell": false,
   "toc_position": {},
   "toc_section_display": true,
   "toc_window_display": false
  },
  "varInspector": {
   "cols": {
    "lenName": 16,
    "lenType": 16,
    "lenVar": 40
   },
   "kernels_config": {
    "python": {
     "delete_cmd_postfix": "",
     "delete_cmd_prefix": "del ",
     "library": "var_list.py",
     "varRefreshCmd": "print(var_dic_list())"
    },
    "r": {
     "delete_cmd_postfix": ") ",
     "delete_cmd_prefix": "rm(",
     "library": "var_list.r",
     "varRefreshCmd": "cat(var_dic_list()) "
    }
   },
   "types_to_exclude": [
    "module",
    "function",
    "builtin_function_or_method",
    "instance",
    "_Feature"
   ],
   "window_display": false
  }
 },
 "nbformat": 4,
 "nbformat_minor": 4
}
